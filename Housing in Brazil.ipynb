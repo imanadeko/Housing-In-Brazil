{
 "cells": [
  {
   "cell_type": "markdown",
   "id": "d1c1841a-9b5f-4dc8-87a2-cf0b57211b2e",
   "metadata": {},
   "source": [
    "# Housing in Brazil"
   ]
  },
  {
   "cell_type": "markdown",
   "id": "53fcf06e-1251-4416-88eb-34130adc4ae2",
   "metadata": {},
   "source": [
    "In this project, I worked with a dataset of homes for sale in Brazil. My goal is to determine if there are regional differences in the real estate market.\n",
    "\n",
    "Also, I looked at southern Brazil to see if there is a relationship between home size and price."
   ]
  },
  {
   "cell_type": "code",
   "execution_count": 1,
   "id": "59c5896a-ebdf-49c0-829b-fb3914a8385c",
   "metadata": {},
   "outputs": [],
   "source": [
    "# Import necessary libraries\n",
    "import matplotlib.pyplot as plt\n",
    "import pandas as pd\n",
    "import plotly as px"
   ]
  },
  {
   "cell_type": "markdown",
   "id": "74f12ca4-5b3c-4478-98f0-b19c125a75f5",
   "metadata": {},
   "source": [
    "## Data Preparation and Import"
   ]
  },
  {
   "cell_type": "markdown",
   "id": "50112869-955e-43de-b4af-4297bf6273af",
   "metadata": {},
   "source": [
    "There are two CSV files containing real estate data from Brazil. I will import them and clean them one by one"
   ]
  },
  {
   "cell_type": "code",
   "execution_count": 2,
   "id": "84e548b1-df34-4b0a-ae92-afc0c79f0663",
   "metadata": {},
   "outputs": [
    {
     "data": {
      "text/html": [
       "<div>\n",
       "<style scoped>\n",
       "    .dataframe tbody tr th:only-of-type {\n",
       "        vertical-align: middle;\n",
       "    }\n",
       "\n",
       "    .dataframe tbody tr th {\n",
       "        vertical-align: top;\n",
       "    }\n",
       "\n",
       "    .dataframe thead th {\n",
       "        text-align: right;\n",
       "    }\n",
       "</style>\n",
       "<table border=\"1\" class=\"dataframe\">\n",
       "  <thead>\n",
       "    <tr style=\"text-align: right;\">\n",
       "      <th></th>\n",
       "      <th>property_type</th>\n",
       "      <th>place_with_parent_names</th>\n",
       "      <th>region</th>\n",
       "      <th>lat-lon</th>\n",
       "      <th>area_m2</th>\n",
       "      <th>price_usd</th>\n",
       "    </tr>\n",
       "  </thead>\n",
       "  <tbody>\n",
       "    <tr>\n",
       "      <th>0</th>\n",
       "      <td>apartment</td>\n",
       "      <td>|Brasil|Alagoas|Maceió|</td>\n",
       "      <td>Northeast</td>\n",
       "      <td>-9.6443051,-35.7088142</td>\n",
       "      <td>110.0</td>\n",
       "      <td>$187,230.85</td>\n",
       "    </tr>\n",
       "    <tr>\n",
       "      <th>1</th>\n",
       "      <td>apartment</td>\n",
       "      <td>|Brasil|Alagoas|Maceió|</td>\n",
       "      <td>Northeast</td>\n",
       "      <td>-9.6430934,-35.70484</td>\n",
       "      <td>65.0</td>\n",
       "      <td>$81,133.37</td>\n",
       "    </tr>\n",
       "    <tr>\n",
       "      <th>2</th>\n",
       "      <td>house</td>\n",
       "      <td>|Brasil|Alagoas|Maceió|</td>\n",
       "      <td>Northeast</td>\n",
       "      <td>-9.6227033,-35.7297953</td>\n",
       "      <td>211.0</td>\n",
       "      <td>$154,465.45</td>\n",
       "    </tr>\n",
       "    <tr>\n",
       "      <th>3</th>\n",
       "      <td>apartment</td>\n",
       "      <td>|Brasil|Alagoas|Maceió|</td>\n",
       "      <td>Northeast</td>\n",
       "      <td>-9.622837,-35.719556</td>\n",
       "      <td>99.0</td>\n",
       "      <td>$146,013.20</td>\n",
       "    </tr>\n",
       "    <tr>\n",
       "      <th>4</th>\n",
       "      <td>apartment</td>\n",
       "      <td>|Brasil|Alagoas|Maceió|</td>\n",
       "      <td>Northeast</td>\n",
       "      <td>-9.654955,-35.700227</td>\n",
       "      <td>55.0</td>\n",
       "      <td>$101,416.71</td>\n",
       "    </tr>\n",
       "  </tbody>\n",
       "</table>\n",
       "</div>"
      ],
      "text/plain": [
       "  property_type  place_with_parent_names     region                 lat-lon  \\\n",
       "0     apartment  |Brasil|Alagoas|Maceió|  Northeast  -9.6443051,-35.7088142   \n",
       "1     apartment  |Brasil|Alagoas|Maceió|  Northeast    -9.6430934,-35.70484   \n",
       "2         house  |Brasil|Alagoas|Maceió|  Northeast  -9.6227033,-35.7297953   \n",
       "3     apartment  |Brasil|Alagoas|Maceió|  Northeast    -9.622837,-35.719556   \n",
       "4     apartment  |Brasil|Alagoas|Maceió|  Northeast    -9.654955,-35.700227   \n",
       "\n",
       "   area_m2    price_usd  \n",
       "0    110.0  $187,230.85  \n",
       "1     65.0   $81,133.37  \n",
       "2    211.0  $154,465.45  \n",
       "3     99.0  $146,013.20  \n",
       "4     55.0  $101,416.71  "
      ]
     },
     "metadata": {},
     "output_type": "display_data"
    },
    {
     "name": "stdout",
     "output_type": "stream",
     "text": [
      "<class 'pandas.core.frame.DataFrame'>\n",
      "RangeIndex: 12834 entries, 0 to 12833\n",
      "Data columns (total 6 columns):\n",
      " #   Column                   Non-Null Count  Dtype  \n",
      "---  ------                   --------------  -----  \n",
      " 0   property_type            12834 non-null  object \n",
      " 1   place_with_parent_names  12834 non-null  object \n",
      " 2   region                   12834 non-null  object \n",
      " 3   lat-lon                  11551 non-null  object \n",
      " 4   area_m2                  12834 non-null  float64\n",
      " 5   price_usd                12834 non-null  object \n",
      "dtypes: float64(1), object(5)\n",
      "memory usage: 601.7+ KB\n"
     ]
    },
    {
     "data": {
      "text/plain": [
       "None"
      ]
     },
     "metadata": {},
     "output_type": "display_data"
    }
   ],
   "source": [
    "# Import and inspect the first csv\n",
    "df1 = pd.read_csv('brasil-real-estate-1.csv')\n",
    "display(df1.head())\n",
    "display(df1.info())"
   ]
  },
  {
   "cell_type": "markdown",
   "id": "535b9537-a216-47ce-b4e2-0c915e340fce",
   "metadata": {},
   "source": [
    "There are null values in the lat-lon column. I will check how many they are, if they are not much, I will drop them."
   ]
  },
  {
   "cell_type": "code",
   "execution_count": 3,
   "id": "4154f8d0-d071-454e-9c8d-7524895b531b",
   "metadata": {},
   "outputs": [
    {
     "data": {
      "text/plain": [
       "property_type                 0\n",
       "place_with_parent_names       0\n",
       "region                        0\n",
       "lat-lon                    1283\n",
       "area_m2                       0\n",
       "price_usd                     0\n",
       "dtype: int64"
      ]
     },
     "execution_count": 3,
     "metadata": {},
     "output_type": "execute_result"
    }
   ],
   "source": [
    "# Checking number of nulls for each column\n",
    "df1.isnull().sum()"
   ]
  },
  {
   "cell_type": "markdown",
   "id": "7ad2473a-e376-4feb-a461-1b811be195c1",
   "metadata": {},
   "source": [
    "The number of nulls are small compared to the amount of records in the dataset. I will proceed with dropping them. "
   ]
  },
  {
   "cell_type": "code",
   "execution_count": 4,
   "id": "15869f85-0fbf-4446-ba6f-81185063457b",
   "metadata": {},
   "outputs": [],
   "source": [
    "# Drop all rows with nulls from df1\n",
    "df1.dropna(inplace=True)"
   ]
  },
  {
   "cell_type": "markdown",
   "id": "1bdb7bad-dbaa-4326-a534-9c65a0cb226c",
   "metadata": {},
   "source": [
    "The lat-lon column contains the latitudes and longitudes of each property, seperated by a comma. I will create 2 seperate columns that will hold the latitude and longitude each and convert them to float data type."
   ]
  },
  {
   "cell_type": "code",
   "execution_count": 5,
   "id": "ccf0e599-8268-48e2-8acf-57d80e6b56be",
   "metadata": {},
   "outputs": [],
   "source": [
    "# Split the lat-lon column by comma and convert to float\n",
    "df1[['lat', 'lon']] = df1['lat-lon'].str.split(',', expand=True).astype(float)"
   ]
  },
  {
   "cell_type": "code",
   "execution_count": 6,
   "id": "7ccac788-50d7-4e0d-9076-c5e0f93cf389",
   "metadata": {},
   "outputs": [
    {
     "name": "stdout",
     "output_type": "stream",
     "text": [
      "<class 'pandas.core.frame.DataFrame'>\n",
      "Index: 11551 entries, 0 to 12833\n",
      "Data columns (total 8 columns):\n",
      " #   Column                   Non-Null Count  Dtype  \n",
      "---  ------                   --------------  -----  \n",
      " 0   property_type            11551 non-null  object \n",
      " 1   place_with_parent_names  11551 non-null  object \n",
      " 2   region                   11551 non-null  object \n",
      " 3   lat-lon                  11551 non-null  object \n",
      " 4   area_m2                  11551 non-null  float64\n",
      " 5   price_usd                11551 non-null  object \n",
      " 6   lat                      11551 non-null  float64\n",
      " 7   lon                      11551 non-null  float64\n",
      "dtypes: float64(3), object(5)\n",
      "memory usage: 812.2+ KB\n"
     ]
    }
   ],
   "source": [
    "df1.info()"
   ]
  },
  {
   "cell_type": "markdown",
   "id": "348ef2a9-1c46-498f-8fb6-599afb7f694d",
   "metadata": {},
   "source": [
    "The `place_with_parent_names` contains the hierarchy of the location each property in the following order: Country, State, City. I will create a `state` column by by extract the state names from the hierarchy."
   ]
  },
  {
   "cell_type": "code",
   "execution_count": 7,
   "id": "a40984a6-632e-484b-9be9-a5489504fad7",
   "metadata": {},
   "outputs": [],
   "source": [
    "# Extracting state names\n",
    "df1['state'] = df1['place_with_parent_names'].str.split('|', expand=True)[2]"
   ]
  },
  {
   "cell_type": "markdown",
   "id": "29947a95-671b-4576-9a3d-5c11b3ddc888",
   "metadata": {},
   "source": [
    "The data type of the `price_usd` column is string instead of float. I will convert it to float after removing the dollar sign and comma."
   ]
  },
  {
   "cell_type": "code",
   "execution_count": 8,
   "id": "7af99226-7161-4814-8d16-f60d8f26fa85",
   "metadata": {},
   "outputs": [],
   "source": [
    "# Remove dollar sign and comma and convert to float\n",
    "df1['price_usd'] = (\n",
    "    df1['price_usd'].str.replace('$', '', regex=False)\n",
    "    .str.replace(',', '')\n",
    "    .astype(float)\n",
    ")"
   ]
  },
  {
   "cell_type": "markdown",
   "id": "7d811979-0c72-448e-aeb6-f9abfd23cbed",
   "metadata": {},
   "source": [
    "Now that I'm done cleaning the data, I will drop the unnecessary columns: `lat-lon` and `place_with_parent_names`"
   ]
  },
  {
   "cell_type": "code",
   "execution_count": 9,
   "id": "2de59949-c4ec-4841-a2af-ad2c6dc05efa",
   "metadata": {},
   "outputs": [],
   "source": [
    "# Drop lat-lon and place_with_parent_names columns\n",
    "df1.drop(columns = ['lat-lon', 'place_with_parent_names'], inplace=True)"
   ]
  },
  {
   "cell_type": "markdown",
   "id": "cdcca3e0-7e3c-470c-9552-37ae9e499a38",
   "metadata": {},
   "source": [
    "Now that I'm done cleaning the first data set, I will import and clean the second dataset."
   ]
  },
  {
   "cell_type": "code",
   "execution_count": 10,
   "id": "24c348a5-c560-499d-907b-29f66badd898",
   "metadata": {},
   "outputs": [
    {
     "data": {
      "text/html": [
       "<div>\n",
       "<style scoped>\n",
       "    .dataframe tbody tr th:only-of-type {\n",
       "        vertical-align: middle;\n",
       "    }\n",
       "\n",
       "    .dataframe tbody tr th {\n",
       "        vertical-align: top;\n",
       "    }\n",
       "\n",
       "    .dataframe thead th {\n",
       "        text-align: right;\n",
       "    }\n",
       "</style>\n",
       "<table border=\"1\" class=\"dataframe\">\n",
       "  <thead>\n",
       "    <tr style=\"text-align: right;\">\n",
       "      <th></th>\n",
       "      <th>property_type</th>\n",
       "      <th>state</th>\n",
       "      <th>region</th>\n",
       "      <th>lat</th>\n",
       "      <th>lon</th>\n",
       "      <th>area_m2</th>\n",
       "      <th>price_brl</th>\n",
       "    </tr>\n",
       "  </thead>\n",
       "  <tbody>\n",
       "    <tr>\n",
       "      <th>0</th>\n",
       "      <td>apartment</td>\n",
       "      <td>Pernambuco</td>\n",
       "      <td>Northeast</td>\n",
       "      <td>-8.134204</td>\n",
       "      <td>-34.906326</td>\n",
       "      <td>72.0</td>\n",
       "      <td>414222.98</td>\n",
       "    </tr>\n",
       "    <tr>\n",
       "      <th>1</th>\n",
       "      <td>apartment</td>\n",
       "      <td>Pernambuco</td>\n",
       "      <td>Northeast</td>\n",
       "      <td>-8.126664</td>\n",
       "      <td>-34.903924</td>\n",
       "      <td>136.0</td>\n",
       "      <td>848408.53</td>\n",
       "    </tr>\n",
       "    <tr>\n",
       "      <th>2</th>\n",
       "      <td>apartment</td>\n",
       "      <td>Pernambuco</td>\n",
       "      <td>Northeast</td>\n",
       "      <td>-8.125550</td>\n",
       "      <td>-34.907601</td>\n",
       "      <td>75.0</td>\n",
       "      <td>299438.28</td>\n",
       "    </tr>\n",
       "    <tr>\n",
       "      <th>3</th>\n",
       "      <td>apartment</td>\n",
       "      <td>Pernambuco</td>\n",
       "      <td>Northeast</td>\n",
       "      <td>-8.120249</td>\n",
       "      <td>-34.895920</td>\n",
       "      <td>187.0</td>\n",
       "      <td>848408.53</td>\n",
       "    </tr>\n",
       "    <tr>\n",
       "      <th>4</th>\n",
       "      <td>apartment</td>\n",
       "      <td>Pernambuco</td>\n",
       "      <td>Northeast</td>\n",
       "      <td>-8.142666</td>\n",
       "      <td>-34.906906</td>\n",
       "      <td>80.0</td>\n",
       "      <td>464129.36</td>\n",
       "    </tr>\n",
       "  </tbody>\n",
       "</table>\n",
       "</div>"
      ],
      "text/plain": [
       "  property_type       state     region       lat        lon  area_m2  \\\n",
       "0     apartment  Pernambuco  Northeast -8.134204 -34.906326     72.0   \n",
       "1     apartment  Pernambuco  Northeast -8.126664 -34.903924    136.0   \n",
       "2     apartment  Pernambuco  Northeast -8.125550 -34.907601     75.0   \n",
       "3     apartment  Pernambuco  Northeast -8.120249 -34.895920    187.0   \n",
       "4     apartment  Pernambuco  Northeast -8.142666 -34.906906     80.0   \n",
       "\n",
       "   price_brl  \n",
       "0  414222.98  \n",
       "1  848408.53  \n",
       "2  299438.28  \n",
       "3  848408.53  \n",
       "4  464129.36  "
      ]
     },
     "metadata": {},
     "output_type": "display_data"
    },
    {
     "name": "stdout",
     "output_type": "stream",
     "text": [
      "<class 'pandas.core.frame.DataFrame'>\n",
      "RangeIndex: 12833 entries, 0 to 12832\n",
      "Data columns (total 7 columns):\n",
      " #   Column         Non-Null Count  Dtype  \n",
      "---  ------         --------------  -----  \n",
      " 0   property_type  12833 non-null  object \n",
      " 1   state          12833 non-null  object \n",
      " 2   region         12833 non-null  object \n",
      " 3   lat            12833 non-null  float64\n",
      " 4   lon            12833 non-null  float64\n",
      " 5   area_m2        11293 non-null  float64\n",
      " 6   price_brl      12833 non-null  float64\n",
      "dtypes: float64(4), object(3)\n",
      "memory usage: 701.9+ KB\n"
     ]
    },
    {
     "data": {
      "text/plain": [
       "None"
      ]
     },
     "metadata": {},
     "output_type": "display_data"
    }
   ],
   "source": [
    "# Import and inspect the second dataset\n",
    "df2 = pd.read_csv('brasil-real-estate-2.csv')\n",
    "display(df2.head())\n",
    "display(df2.info())"
   ]
  },
  {
   "cell_type": "markdown",
   "id": "41779e16-82ea-4a65-b1eb-74b18571152d",
   "metadata": {},
   "source": [
    "This dataset has `price_brl` instead of `price_usd`. I will create `price_usd` column. (Keep in mind that, when this data was collected in 2015 and 2016, a US dollar cost 3.19 Brazilian reals.)"
   ]
  },
  {
   "cell_type": "code",
   "execution_count": 11,
   "id": "2b22730b-d86b-4c6d-80fb-34bc15c012d5",
   "metadata": {},
   "outputs": [],
   "source": [
    "# Create `price_usd` by converting `price_brl` to usd\n",
    "df2['price_usd'] = df2['price_brl'] / 3.19"
   ]
  },
  {
   "cell_type": "markdown",
   "id": "f6d36243-5f12-4ebd-9e09-7d615a68bba8",
   "metadata": {},
   "source": [
    "There are some nulls in the dataset. I will drop the `price_brl` column along with thse nulls"
   ]
  },
  {
   "cell_type": "code",
   "execution_count": 12,
   "id": "b1496968-87c6-47ee-8717-2df3144626a2",
   "metadata": {},
   "outputs": [],
   "source": [
    "# Drop `price_brl` column \n",
    "df2.drop(columns = ['price_brl'], inplace=True)\n",
    "\n",
    "# Drop nulls in the dataset \n",
    "df2.dropna(inplace=True)"
   ]
  },
  {
   "cell_type": "markdown",
   "id": "c4bd46f1-a52f-49e8-b8b8-8a8a58247e9a",
   "metadata": {},
   "source": [
    "Now that I've cleaned both datasets, i will combine them into a single dataframe"
   ]
  },
  {
   "cell_type": "code",
   "execution_count": 13,
   "id": "362d5035-15a9-455b-955c-f07a11aa1823",
   "metadata": {},
   "outputs": [],
   "source": [
    "# Concatenate both dataframes\n",
    "df = pd.concat([df1, df2])"
   ]
  },
  {
   "cell_type": "markdown",
   "id": "9c16aaae-f647-4aac-99c0-781b1d2d1d94",
   "metadata": {},
   "source": [
    "## Exploratory Data Analysis"
   ]
  },
  {
   "cell_type": "markdown",
   "id": "1e152de8-18f2-4cf3-b000-6da46d54c192",
   "metadata": {},
   "source": [
    "I will use the `.describe()` method to view summary statistics for the `area_m2` and `price_usd` columns."
   ]
  },
  {
   "cell_type": "code",
   "execution_count": 14,
   "id": "37244d40-55ca-4811-a5c5-30fb9001a2cc",
   "metadata": {},
   "outputs": [
    {
     "data": {
      "text/html": [
       "<div>\n",
       "<style scoped>\n",
       "    .dataframe tbody tr th:only-of-type {\n",
       "        vertical-align: middle;\n",
       "    }\n",
       "\n",
       "    .dataframe tbody tr th {\n",
       "        vertical-align: top;\n",
       "    }\n",
       "\n",
       "    .dataframe thead th {\n",
       "        text-align: right;\n",
       "    }\n",
       "</style>\n",
       "<table border=\"1\" class=\"dataframe\">\n",
       "  <thead>\n",
       "    <tr style=\"text-align: right;\">\n",
       "      <th></th>\n",
       "      <th>area_m2</th>\n",
       "      <th>price_usd</th>\n",
       "    </tr>\n",
       "  </thead>\n",
       "  <tbody>\n",
       "    <tr>\n",
       "      <th>count</th>\n",
       "      <td>22844.000000</td>\n",
       "      <td>22844.000000</td>\n",
       "    </tr>\n",
       "    <tr>\n",
       "      <th>mean</th>\n",
       "      <td>115.020224</td>\n",
       "      <td>194987.315480</td>\n",
       "    </tr>\n",
       "    <tr>\n",
       "      <th>std</th>\n",
       "      <td>47.742932</td>\n",
       "      <td>103617.682978</td>\n",
       "    </tr>\n",
       "    <tr>\n",
       "      <th>min</th>\n",
       "      <td>53.000000</td>\n",
       "      <td>74892.340000</td>\n",
       "    </tr>\n",
       "    <tr>\n",
       "      <th>25%</th>\n",
       "      <td>76.000000</td>\n",
       "      <td>113898.770000</td>\n",
       "    </tr>\n",
       "    <tr>\n",
       "      <th>50%</th>\n",
       "      <td>103.000000</td>\n",
       "      <td>165697.555000</td>\n",
       "    </tr>\n",
       "    <tr>\n",
       "      <th>75%</th>\n",
       "      <td>142.000000</td>\n",
       "      <td>246900.880878</td>\n",
       "    </tr>\n",
       "    <tr>\n",
       "      <th>max</th>\n",
       "      <td>252.000000</td>\n",
       "      <td>525659.717868</td>\n",
       "    </tr>\n",
       "  </tbody>\n",
       "</table>\n",
       "</div>"
      ],
      "text/plain": [
       "            area_m2      price_usd\n",
       "count  22844.000000   22844.000000\n",
       "mean     115.020224  194987.315480\n",
       "std       47.742932  103617.682978\n",
       "min       53.000000   74892.340000\n",
       "25%       76.000000  113898.770000\n",
       "50%      103.000000  165697.555000\n",
       "75%      142.000000  246900.880878\n",
       "max      252.000000  525659.717868"
      ]
     },
     "execution_count": 14,
     "metadata": {},
     "output_type": "execute_result"
    }
   ],
   "source": [
    "df[['area_m2', 'price_usd']].describe()"
   ]
  },
  {
   "cell_type": "markdown",
   "id": "1ddaa886-2d85-48e5-864c-6bac0f14f001",
   "metadata": {},
   "source": [
    "I will create a histogram of `price_usd` to visualize its distribution."
   ]
  },
  {
   "cell_type": "code",
   "execution_count": 15,
   "id": "108a3e0a-ac95-46c5-b08d-5c4c29d590b8",
   "metadata": {},
   "outputs": [
    {
     "data": {
      "image/png": "[encoded data removed]",
      "text/plain": [
       "<Figure size 640x480 with 1 Axes>"
      ]
     },
     "metadata": {},
     "output_type": "display_data"
    }
   ],
   "source": [
    "# Build histogram\n",
    "plt.hist(df['price_usd'])\n",
    "\n",
    "\n",
    "# Label axes\n",
    "plt.xlabel('Price [USD]')\n",
    "plt.ylabel('Frequency')\n",
    "# Add title\n",
    "plt.title('Distribution of Home Prices');"
   ]
  },
  {
   "cell_type": "markdown",
   "id": "6429f09b-5f7d-4ebb-8117-fd8097d02253",
   "metadata": {},
   "source": [
    "Price is rightly-skewed as indicated in the summary statistics, where the mean is greater than the median."
   ]
  },
  {
   "cell_type": "markdown",
   "id": "0f34bb04-70b0-4730-9cc0-7bf2a6755149",
   "metadata": {},
   "source": [
    "I will visualize the distribution of area with a boxplot."
   ]
  },
  {
   "cell_type": "code",
   "execution_count": 16,
   "id": "463063db-1eea-43c2-ad73-cf7faecfda56",
   "metadata": {},
   "outputs": [
    {
     "data": {
      "image/png": "[encoded data removed]",
      "text/plain": [
       "<Figure size 640x480 with 1 Axes>"
      ]
     },
     "metadata": {},
     "output_type": "display_data"
    }
   ],
   "source": [
    "# Build box plot\n",
    "plt.boxplot(df['area_m2'], vert=False)\n",
    "\n",
    "\n",
    "# Label x-axis\n",
    "plt.xlabel('Area [sq meters]')\n",
    "\n",
    "# Add title\n",
    "plt.title('Distribution of Home Sizes');"
   ]
  },
  {
   "cell_type": "markdown",
   "id": "2e0af43f-553b-454d-8ed0-019edfad2137",
   "metadata": {},
   "source": [
    "I will calculate the mean price grouped by region, sorted in ascending order of mean price and visualize in a bar chart."
   ]
  },
  {
   "cell_type": "code",
   "execution_count": 19,
   "id": "765f267d-e970-4c86-b48b-348d99824240",
   "metadata": {},
   "outputs": [
    {
     "data": {
      "image/png": "[encoded data removed]",
      "text/plain": [
       "<Figure size 640x480 with 1 Axes>"
      ]
     },
     "metadata": {},
     "output_type": "display_data"
    }
   ],
   "source": [
    "df.groupby('region')['price_usd']\\\n",
    ".mean()\\\n",
    ".sort_values()\\\n",
    ".plot(\n",
    "    kind='bar',\n",
    "    xlabel='Region',\n",
    "    ylabel='Mean price [USD]',\n",
    "    title='Mean Home Price by Region'\n",
    ");"
   ]
  },
  {
   "cell_type": "markdown",
   "id": "5e6182f8-56b3-423c-94cb-d7f0cbd36903",
   "metadata": {},
   "source": [
    "Houses in the Southeast and the South had the highest average price"
   ]
  },
  {
   "cell_type": "markdown",
   "id": "ab11918c-5c93-48c8-8667-92f21d409be9",
   "metadata": {},
   "source": [
    "I will now look into the relationship between home size and price in the southern region of Brazil.\n",
    "\n",
    "\n",
    "I will create a dataframe `df_south` that contains all homes in the region `South`."
   ]
  },
  {
   "cell_type": "code",
   "execution_count": 21,
   "id": "78c821c7-f07a-4349-ac80-cfadd16e830a",
   "metadata": {},
   "outputs": [],
   "source": [
    "df_south = df[df['region'] == 'South']"
   ]
  },
  {
   "cell_type": "markdown",
   "id": "4e2932c8-14c7-4bfc-ab6d-6935d2fdcc19",
   "metadata": {},
   "source": [
    "Using the `value_counts()` method, I will create a series that contains the number of properties in each state in the south."
   ]
  },
  {
   "cell_type": "code",
   "execution_count": 22,
   "id": "de5a9ac2-c19f-4731-bc72-7d69f273209c",
   "metadata": {},
   "outputs": [
    {
     "data": {
      "text/plain": [
       "state\n",
       "Rio Grande do Sul    2643\n",
       "Santa Catarina       2634\n",
       "Paraná               2544\n",
       "Name: count, dtype: int64"
      ]
     },
     "execution_count": 22,
     "metadata": {},
     "output_type": "execute_result"
    }
   ],
   "source": [
    "homes_by_state = df_south['state'].value_counts()\n",
    "homes_by_state"
   ]
  },
  {
   "cell_type": "markdown",
   "id": "02ee2c36-ae07-4931-99bc-5dc1b0a1bc21",
   "metadata": {},
   "source": [
    "I will create a scatterplot visualizing the relationship between price and area for the state in the south that has the largest number of properties."
   ]
  },
  {
   "cell_type": "code",
   "execution_count": 23,
   "id": "c43b7d51-0645-4f34-968a-e40b860be897",
   "metadata": {},
   "outputs": [
    {
     "data": {
      "image/png": "[encoded data removed]",
      "text/plain": [
       "<Figure size 640x480 with 1 Axes>"
      ]
     },
     "metadata": {},
     "output_type": "display_data"
    }
   ],
   "source": [
    "# Subset data\n",
    "df_south_rgs = df_south[df_south['state'] == 'Rio Grande do Sul']\n",
    "\n",
    "# Build scatter plot\n",
    "plt.scatter(x=df_south_rgs['area_m2'],\n",
    "           y=df_south_rgs['price_usd'])\n",
    "\n",
    "\n",
    "# Label axes\n",
    "plt.xlabel('Area [sq meters]')\n",
    "plt.ylabel('Price [USD]')\n",
    "\n",
    "# Add title\n",
    "plt.title(\"Rio Grande do Sul: Price vs. Area\");"
   ]
  },
  {
   "cell_type": "markdown",
   "id": "ead45cba-a4a2-4ca1-b938-ebc6f69a2351",
   "metadata": {},
   "source": [
    "Properties and Area in the Rio Grande so Sul are slightly positively correlated."
   ]
  },
  {
   "cell_type": "markdown",
   "id": "4d0a47d2-5bbd-430a-9c93-1049521465fc",
   "metadata": {},
   "source": [
    "I will create a dictionary `south_states_corr`, where the key names are the 3 states in the South, and their associated calues are the correlation coefficient between area and price in the respective state."
   ]
  },
  {
   "cell_type": "code",
   "execution_count": 24,
   "id": "ccb785f8-25ec-4b87-b7ec-821a22961134",
   "metadata": {},
   "outputs": [
    {
     "data": {
      "text/plain": [
       "{'Paraná': np.float64(0.5436659935502659),\n",
       " 'Rio Grande do Sul': np.float64(0.5773267433717683),\n",
       " 'Santa Catarina': np.float64(0.5068121776366781)}"
      ]
     },
     "execution_count": 24,
     "metadata": {},
     "output_type": "execute_result"
    }
   ],
   "source": [
    "south_states = list(df_south.state.unique())\n",
    "south_states_corr = {}\n",
    "\n",
    "for state in south_states:\n",
    "    state_data = df_south[df_south['state'] == state]\n",
    "    corr = state_data['area_m2'].corr(state_data['price_usd'])\n",
    "    south_states_corr[state] = corr\n",
    "\n",
    "south_states_corr"
   ]
  },
  {
   "cell_type": "markdown",
   "id": "9c7df04d-0f77-48c4-b5e5-97475f6dedc6",
   "metadata": {},
   "source": [
    "Price and area are slightly positively correlated in each state in the southern region of Brazil."
   ]
  }
 ],
 "metadata": {
  "kernelspec": {
   "display_name": "Python 3 (ipykernel)",
   "language": "python",
   "name": "python3"
  },
  "language_info": {
   "codemirror_mode": {
    "name": "ipython",
    "version": 3
   },
   "file_extension": ".py",
   "mimetype": "text/x-python",
   "name": "python",
   "nbconvert_exporter": "python",
   "pygments_lexer": "ipython3",
   "version": "3.12.1"
  }
 },
 "nbformat": 4,
 "nbformat_minor": 5
}
